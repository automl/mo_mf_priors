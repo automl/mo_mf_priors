{
 "cells": [
  {
   "cell_type": "code",
   "execution_count": null,
   "id": "00457ffe",
   "metadata": {},
   "outputs": [],
   "source": [
    "from pathlib import Path\n",
    "from pprint import pprint\n",
    "\n",
    "import numpy as np\n",
    "import pandas as pd\n",
    "\n",
    "\n",
    "def get_all_fids(search_key: str, exp_dir: str = \"all_yahpo_25\") -> dict:  # noqa: D103\n",
    "    results_dir = Path(\"/home/soham/Master_Thesis/code/momf_priors_results\")\n",
    "    exp_dir = results_dir / exp_dir\n",
    "    all_files = sorted(exp_dir.glob(f\"**/*{search_key}*.parquet\"))\n",
    "    all_fidelities = {}\n",
    "\n",
    "    for file in all_files:\n",
    "        pq = pd.read_parquet(file)\n",
    "        fids = pq[\"fidelity\"].astype(np.int32)\n",
    "        benchmark = pq[\"benchmark\"].iloc[0]\n",
    "        seed = pq[\"seed\"].iloc[0]  # Assuming each parquet file has a `seed` column\n",
    "        if benchmark not in all_fidelities:\n",
    "            all_fidelities[benchmark] = {}\n",
    "        all_fidelities[benchmark][seed] = fids.tolist()\n",
    "    return all_fidelities\n",
    "\n",
    "\n",
    "def get_percentiles(all_fids: dict) -> dict: # noqa: D103\n",
    "    percentiles = {}\n",
    "    for benchmark, seed_dict in all_fids.items():\n",
    "        per_seed_stats = []\n",
    "        for _, fids in seed_dict.items():\n",
    "            max_fid_count = sum(fid == max(fids) for fid in fids)\n",
    "            stats = {\n",
    "                \"25th\": np.percentile(fids, 25),\n",
    "                \"50th\": np.percentile(fids, 50),\n",
    "                \"75th\": np.percentile(fids, 75),\n",
    "                \"90th\": np.percentile(fids, 90),\n",
    "                \"95th\": np.percentile(fids, 95),\n",
    "                \"mean\": np.mean(fids),\n",
    "                \"std\": np.std(fids),\n",
    "                \"max_fid_num_sampled\": max_fid_count\n",
    "            }\n",
    "            per_seed_stats.append(stats)\n",
    "        # Now average across seeds\n",
    "        percentiles[benchmark] = {\n",
    "            key: np.mean([s[key] for s in per_seed_stats]) for key in per_seed_stats[0]\n",
    "        }\n",
    "    return percentiles\n",
    "\n",
    "\n",
    "def plot_fid_distribution(all_fids: dict):  # noqa: D103\n",
    "    import matplotlib.pyplot as plt\n",
    "    import numpy as np\n",
    "\n",
    "    fig, axes = plt.subplots(3, 3, figsize=(15, 10))\n",
    "    axes = axes.flatten()\n",
    "\n",
    "    avg_counts = {}\n",
    "\n",
    "    for i, (benchmark, seed_dict) in enumerate(all_fids.items()):\n",
    "        max_fid = max([max(fids) for fids in seed_dict.values()])\n",
    "        avg_counts[benchmark] = np.mean([np.bincount(fids, minlength=max_fid + 1)[1:] for fids in seed_dict.values()], axis=0)\n",
    "\n",
    "        axes[i].bar(range(len(avg_counts[benchmark])), avg_counts[benchmark], width=2.0)\n",
    "        axes[i].set_xticks(np.linspace(1, max_fid, num=5))\n",
    "        axes[i].set_title(benchmark)\n",
    "        axes[i].set_xlabel(\"Fidelity\")\n",
    "        axes[i].set_ylabel(\"Count\")\n",
    "\n",
    "    plt.tight_layout()\n",
    "    plt.show()\n",
    "\n",
    "\n",
    "def do_all_eda(search_key: str, exp_dir: str = \"all_yahpo_25\"):  # noqa: D103\n",
    "    all_fids = get_all_fids(search_key, exp_dir)\n",
    "    percentiles = get_percentiles(all_fids)\n",
    "    pprint(percentiles, depth=4)  # noqa: T203\n",
    "    plot_fid_distribution(all_fids)"
   ]
  },
  {
   "cell_type": "code",
   "execution_count": null,
   "id": "fcabf43f",
   "metadata": {},
   "outputs": [],
   "source": [
    "do_all_eda(\"NepsHyperbandRW\")"
   ]
  },
  {
   "cell_type": "code",
   "execution_count": null,
   "id": "8f1ba7aa",
   "metadata": {},
   "outputs": [],
   "source": [
    "do_all_eda(\"NepsMOASHA\")"
   ]
  },
  {
   "cell_type": "code",
   "execution_count": null,
   "id": "906865b2",
   "metadata": {},
   "outputs": [],
   "source": [
    "do_all_eda(\"MOMFBO\")"
   ]
  }
 ],
 "metadata": {
  "language_info": {
   "name": "python"
  }
 },
 "nbformat": 4,
 "nbformat_minor": 5
}
